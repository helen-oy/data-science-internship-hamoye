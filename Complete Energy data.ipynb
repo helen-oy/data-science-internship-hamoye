{
 "cells": [
  {
   "cell_type": "code",
   "execution_count": 1,
   "id": "ac18f486",
   "metadata": {},
   "outputs": [],
   "source": [
    "import pandas as pd\n",
    "import numpy as np\n",
    "import matplotlib.pyplot as plt\n",
    "import seaborn as sns"
   ]
  },
  {
   "cell_type": "code",
   "execution_count": null,
   "id": "a92e46a2",
   "metadata": {},
   "outputs": [],
   "source": [
    "df = pd.read_csv(\"https://raw.githubusercontent.com/helen-oy/data-science-internship-hamoye/main/energydata_complete.csv\")"
   ]
  },
  {
   "cell_type": "code",
   "execution_count": null,
   "id": "546bc24d",
   "metadata": {},
   "outputs": [],
   "source": [
    "df.head()"
   ]
  },
  {
   "cell_type": "code",
   "execution_count": null,
   "id": "57851906",
   "metadata": {},
   "outputs": [],
   "source": [
    "df.describe()"
   ]
  },
  {
   "cell_type": "code",
   "execution_count": null,
   "id": "716fd48b",
   "metadata": {},
   "outputs": [],
   "source": [
    "df.shape"
   ]
  },
  {
   "cell_type": "code",
   "execution_count": null,
   "id": "18498a1a",
   "metadata": {},
   "outputs": [],
   "source": [
    "from sklearn.preprocessing import MinMaxScaler\n",
    "scaler= MinMaxScaler()"
   ]
  },
  {
   "cell_type": "code",
   "execution_count": null,
   "id": "b1918399",
   "metadata": {},
   "outputs": [],
   "source": [
    "normalised_df = pd.DataFrame(scaler.fit_transform(features_df), columns=features_df.columns)\n",
    "features_df = normalised_df.drop(columns=['Appliances']\n",
    "target_variable = normalised_df['Appliances']"
   ]
  },
  {
   "cell_type": "code",
   "execution_count": null,
   "id": "0151223a",
   "metadata": {},
   "outputs": [],
   "source": [
    "from sklearn.model_selection import train_test_split\n",
    "x_train, x_test, y_train, y_test = train_test_split(features_df, target_variable, test_size= 0.3 , random_state=42)\n"
   ]
  },
  {
   "cell_type": "code",
   "execution_count": null,
   "id": "9eea542d",
   "metadata": {},
   "outputs": [],
   "source": [
    "from sklearn.linear_model import LinearRegression\n",
    "linear_model = LinearRegression()"
   ]
  },
  {
   "cell_type": "code",
   "execution_count": null,
   "id": "cd2cf19b",
   "metadata": {},
   "outputs": [],
   "source": [
    "#fit the model to the training dataset like\n",
    "linear_model.fit(x_train, y_train)"
   ]
  },
  {
   "cell_type": "code",
   "execution_count": null,
   "id": "583f12a1",
   "metadata": {
    "scrolled": false
   },
   "outputs": [],
   "source": [
    "#obtain predictions\n",
    "predicted_values= linear_model.predict(x_test)\n",
    "print(predicted_values)"
   ]
  },
  {
   "cell_type": "code",
   "execution_count": null,
   "id": "a38e6ecc",
   "metadata": {},
   "outputs": [],
   "source": [
    "#Mean Absolute Error\n",
    "from sklearn.metrics import mean_absolute_error\n",
    "mae = mean_absolute_error(y_test, predicted_values)"
   ]
  },
  {
   "cell_type": "code",
   "execution_count": null,
   "id": "aad392e9",
   "metadata": {},
   "outputs": [],
   "source": [
    "round(mae,2)"
   ]
  },
  {
   "cell_type": "code",
   "execution_count": null,
   "id": "ef9f3a6d",
   "metadata": {},
   "outputs": [],
   "source": [
    "import numpy as np"
   ]
  },
  {
   "cell_type": "code",
   "execution_count": null,
   "id": "daed22ee",
   "metadata": {},
   "outputs": [],
   "source": [
    "from sklearn import metrics"
   ]
  },
  {
   "cell_type": "code",
   "execution_count": null,
   "id": "f173b086",
   "metadata": {},
   "outputs": [],
   "source": [
    "from sklearn.metrics import r2_score"
   ]
  },
  {
   "cell_type": "code",
   "execution_count": null,
   "id": "2af2d43c",
   "metadata": {},
   "outputs": [],
   "source": [
    "import numpy as np\n",
    "rss = np.sum(np.square(y_test, predicted_values))\n",
    "round(rss, 2)"
   ]
  },
  {
   "cell_type": "code",
   "execution_count": null,
   "id": "dcdde6d0",
   "metadata": {},
   "outputs": [],
   "source": [
    "from sklearn.metrics import mean_squared_error\n",
    "rmse= np.sqrt(mean_squared_error(y_test, predicted_values))\n",
    "round(rmse, 3)"
   ]
  },
  {
   "cell_type": "code",
   "execution_count": null,
   "id": "259c06e1",
   "metadata": {},
   "outputs": [],
   "source": [
    "from sklearn.metrics import r2_score\n",
    "r2_score = r2_score(y_test, predicted_values)\n",
    "round(r2_score, 2)"
   ]
  },
  {
   "cell_type": "code",
   "execution_count": null,
   "id": "dced11d8",
   "metadata": {},
   "outputs": [],
   "source": [
    "features_df= df.drop(columns=['date','lights'])\n",
    "normalised_df = pd.DataFrame(scaler.fit_transform(features_df), columns=features_df.columns)\n",
    "target_variable = normalised_df['Appliances']"
   ]
  },
  {
   "cell_type": "code",
   "execution_count": null,
   "id": "8dcf13a7",
   "metadata": {},
   "outputs": [],
   "source": [
    "from sklearn.model_selection import train_test_split\n",
    "x_train, x_test, y_train, y_test = train_test_split(features_df, target_variable, test_size= 0.3 , random_state=42)\n"
   ]
  },
  {
   "cell_type": "code",
   "execution_count": null,
   "id": "1855bb0e",
   "metadata": {},
   "outputs": [],
   "source": [
    "from sklearn.linear_model import LinearRegression \n",
    "linear_model = LinearRegression()\n",
    "linear_model.fit(x_train,y_train)"
   ]
  },
  {
   "cell_type": "code",
   "execution_count": null,
   "id": "41e72a6e",
   "metadata": {},
   "outputs": [],
   "source": [
    "predict_values = linear_model.predict(x_test)\n",
    "predict_values"
   ]
  },
  {
   "cell_type": "code",
   "execution_count": null,
   "id": "cb62b4e7",
   "metadata": {},
   "outputs": [],
   "source": [
    "pd.DataFrame(y_test.head())"
   ]
  },
  {
   "cell_type": "code",
   "execution_count": null,
   "id": "55d781e1",
   "metadata": {},
   "outputs": [],
   "source": [
    "def get_weights_df(model, feat, col_name):\n",
    "    weights = pd.Series(model.coef_, feat.columns).sort_values()\n",
    "    weights_df = pd.DataFrame(weights).reset_index()\n",
    "    weights_df.columns = ['Features',col_name]\n",
    "    weights_df[col_name].round( 3 )\n",
    "    return weights_df"
   ]
  },
  {
   "cell_type": "code",
   "execution_count": null,
   "id": "19ecd35e",
   "metadata": {},
   "outputs": [],
   "source": [
    "linear_weight = get_weights_df(linear_model,x_train,'Linear Weight')"
   ]
  },
  {
   "cell_type": "code",
   "execution_count": null,
   "id": "431abbe6",
   "metadata": {},
   "outputs": [],
   "source": [
    "pd.DataFrame(linear_weight)"
   ]
  },
  {
   "cell_type": "code",
   "execution_count": null,
   "id": "52842a5d",
   "metadata": {},
   "outputs": [],
   "source": [
    "# Ridge Model \n",
    "from sklearn.linear_model import Ridge\n",
    "ridge_reg = Ridge(alpha= 0.4 )\n",
    "ridge_reg.fit(x_train, y_train)"
   ]
  },
  {
   "cell_type": "code",
   "execution_count": null,
   "id": "cc93a819",
   "metadata": {},
   "outputs": [],
   "source": [
    "predict_values = ridge_reg.predict(x_test)"
   ]
  },
  {
   "cell_type": "code",
   "execution_count": null,
   "id": "4381b133",
   "metadata": {},
   "outputs": [],
   "source": [
    "ridge_weight = get_weights_df(ridge_reg,x_train,'Ridge Weight')"
   ]
  },
  {
   "cell_type": "code",
   "execution_count": null,
   "id": "2a4f6505",
   "metadata": {},
   "outputs": [],
   "source": [
    "print(ridge_weight)"
   ]
  },
  {
   "cell_type": "code",
   "execution_count": null,
   "id": "90f63f1e",
   "metadata": {},
   "outputs": [],
   "source": [
    "#building LASSO Model\n",
    "from sklearn.linear_model import Lasso\n",
    "lasso_reg = Lasso(alpha= 0.001)\n",
    "lasso_reg.fit(x_train,y_train)"
   ]
  },
  {
   "cell_type": "code",
   "execution_count": null,
   "id": "329ea7f8",
   "metadata": {},
   "outputs": [],
   "source": [
    "lasso_weight = get_weights_df(lasso_reg,x_train,'Ridge Weight')"
   ]
  },
  {
   "cell_type": "code",
   "execution_count": null,
   "id": "b3483dba",
   "metadata": {},
   "outputs": [],
   "source": [
    "print(lasso_weight)"
   ]
  },
  {
   "cell_type": "code",
   "execution_count": null,
   "id": "834b1e28",
   "metadata": {},
   "outputs": [],
   "source": [
    "final_weights = pd.merge(linear_weight,ridge_weight,on='Features')\n",
    "final_weights = pd.merge(final_weights,lasso_weight,on='Features')"
   ]
  },
  {
   "cell_type": "code",
   "execution_count": null,
   "id": "03856c68",
   "metadata": {},
   "outputs": [],
   "source": [
    "print(final_weights)"
   ]
  },
  {
   "cell_type": "code",
   "execution_count": null,
   "id": "45ef3dfb",
   "metadata": {},
   "outputs": [],
   "source": [
    "temp_living_room = features_df.loc[:,'T2'].values\n",
    "temp_outside_building = features_df.loc[:,'T6'].values"
   ]
  },
  {
   "cell_type": "code",
   "execution_count": null,
   "id": "10d6b5c7",
   "metadata": {},
   "outputs": [],
   "source": [
    "from sklearn.model_selection import train_test_split\n",
    "x_train, x_test, y_train, y_test = train_test_split(temp_living_room, temp_outside_building, test_size= 0.3 , random_state=1)\n"
   ]
  },
  {
   "cell_type": "code",
   "execution_count": null,
   "id": "2559cef9",
   "metadata": {},
   "outputs": [],
   "source": [
    "from sklearn.linear_model import LinearRegression\n",
    "linear_model = LinearRegression()"
   ]
  },
  {
   "cell_type": "code",
   "execution_count": null,
   "id": "15c707e7",
   "metadata": {},
   "outputs": [],
   "source": [
    "x_train = x_train.reshape(-1,1)\n",
    "y_train = y_train.reshape(-1,1)\n",
    "x_test = x_test.reshape(-1,1)\n",
    "y_test = y_test.reshape(-1,1)"
   ]
  },
  {
   "cell_type": "code",
   "execution_count": null,
   "id": "5c593e7d",
   "metadata": {},
   "outputs": [],
   "source": [
    "#to get the r-squared in between temperature in living room and temperature outside building \n",
    "r2_score = metrics.r2_score(y_test, predicted_values)"
   ]
  },
  {
   "cell_type": "code",
   "execution_count": null,
   "id": "debff04a",
   "metadata": {},
   "outputs": [],
   "source": [
    "round(r2_score , 2)"
   ]
  },
  {
   "cell_type": "markdown",
   "id": "4cbbd444",
   "metadata": {},
   "source": [
    "# Q12 = 0.65. the r-squared value in 2 d.p."
   ]
  },
  {
   "cell_type": "code",
   "execution_count": null,
   "id": "8c9a1602",
   "metadata": {},
   "outputs": [],
   "source": [
    "from sklearn.model_selection import train_test_split\n",
    "x_train, x_test, y_train, y_test = train_test_split(features_df, target_variable, test_size= 0.3 , random_state=42)\n"
   ]
  }
 ],
 "metadata": {
  "kernelspec": {
   "display_name": "Python 3 (ipykernel)",
   "language": "python",
   "name": "python3"
  },
  "language_info": {
   "codemirror_mode": {
    "name": "ipython",
    "version": 3
   },
   "file_extension": ".py",
   "mimetype": "text/x-python",
   "name": "python",
   "nbconvert_exporter": "python",
   "pygments_lexer": "ipython3",
   "version": "3.9.7"
  }
 },
 "nbformat": 4,
 "nbformat_minor": 5
}
